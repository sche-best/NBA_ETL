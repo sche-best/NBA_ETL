{
 "cells": [
  {
   "cell_type": "code",
   "execution_count": 11,
   "metadata": {},
   "outputs": [],
   "source": [
    "import pandas as pd\n",
    "import requests\n",
    "pd.set_option('display.max_columns', None)\n",
    "import time\n",
    "import numpy as np\n",
    "import mysql.connector"
   ]
  },
  {
   "cell_type": "code",
   "execution_count": 12,
   "metadata": {},
   "outputs": [],
   "source": [
    "test_url='https://stats.nba.com/stats/leagueLeaders?LeagueID=00&PerMode=Totals&Scope=S&Season=2012-13&SeasonType=Regular%20Season&StatCategory=PTS'"
   ]
  },
  {
   "cell_type": "code",
   "execution_count": 13,
   "metadata": {},
   "outputs": [],
   "source": [
    "r = requests.get(url=test_url).json()"
   ]
  },
  {
   "cell_type": "code",
   "execution_count": 14,
   "metadata": {},
   "outputs": [],
   "source": [
    "table_headers = r['resultSet']['headers']\n",
    "table_values = r['resultSet']['rowSet']"
   ]
  },
  {
   "cell_type": "code",
   "execution_count": 15,
   "metadata": {},
   "outputs": [],
   "source": [
    "df_cols = ['Year', 'Season_type'] + table_headers"
   ]
  },
  {
   "cell_type": "code",
   "execution_count": 16,
   "metadata": {},
   "outputs": [],
   "source": [
    "headers = {\n",
    "    'Accept' : '*/*',\n",
    "    'Accept-Encoding': 'gzip, deflate, br',\n",
    "    'Accept-Language': 'de-DE,de;q=0.9,en-US;q=0.8,en;q=0.7',\n",
    "    'Connection' : 'keep-alive',\n",
    "    'Host': 'stats.nba.com',\n",
    "    'Origin':'https://www.nba.com',\n",
    "    'Referer': 'https://www.nba.com/',\n",
    "    'Sec-Ch-Ua': '\"Chromium\";v=\"116\", \"Not)A;Brand\";v=\"24\", \"Google Chrome\";v=\"116\"',\n",
    "    'Sec-Ch-Ua-Mobile': '?0',\n",
    "    'Sec-Ch-Ua-Platform': \"Windows\",\n",
    "    'Sec-Fetch-Dest': 'empty',\n",
    "    'Sec-Fetch-Mode': 'cors',\n",
    "    'Sec-Fetch-Site': 'same-site',\n",
    "    'User-Agent': 'Mozilla/5.0 (Windows NT 10.0; Win64; x64) AppleWebKit/537.36 (KHTML, like Gecko) Chrome/116.0.0.0 Safari/537.36'\n",
    "}"
   ]
  },
  {
   "cell_type": "code",
   "execution_count": 17,
   "metadata": {},
   "outputs": [
    {
     "name": "stdout",
     "output_type": "stream",
     "text": [
      "Finished scraping data for the 2012-13 Regular%Season.\n",
      "...waiting 18.9 seconds\n",
      "Finished scraping data for the 2012-13 Playoffs.\n",
      "...waiting 17.7 seconds\n",
      "Finished scraping data for the 2013-14 Regular%Season.\n",
      "...waiting 7.5 seconds\n",
      "Finished scraping data for the 2013-14 Playoffs.\n",
      "...waiting 19.9 seconds\n",
      "Finished scraping data for the 2014-15 Regular%Season.\n",
      "...waiting 10.8 seconds\n",
      "Finished scraping data for the 2014-15 Playoffs.\n",
      "...waiting 13.6 seconds\n",
      "Finished scraping data for the 2015-16 Regular%Season.\n",
      "...waiting 19.1 seconds\n",
      "Finished scraping data for the 2015-16 Playoffs.\n",
      "...waiting 14.5 seconds\n",
      "Finished scraping data for the 2016-17 Regular%Season.\n",
      "...waiting 16.5 seconds\n",
      "Finished scraping data for the 2016-17 Playoffs.\n",
      "...waiting 5.4 seconds\n",
      "Finished scraping data for the 2017-18 Regular%Season.\n",
      "...waiting 19.6 seconds\n",
      "Finished scraping data for the 2017-18 Playoffs.\n",
      "...waiting 9.3 seconds\n",
      "Finished scraping data for the 2018-19 Regular%Season.\n",
      "...waiting 6.1 seconds\n",
      "Finished scraping data for the 2018-19 Playoffs.\n",
      "...waiting 10.7 seconds\n",
      "Finished scraping data for the 2019-20 Regular%Season.\n",
      "...waiting 12.6 seconds\n",
      "Finished scraping data for the 2019-20 Playoffs.\n",
      "...waiting 11.0 seconds\n",
      "Finished scraping data for the 2020-21 Regular%Season.\n",
      "...waiting 8.3 seconds\n",
      "Finished scraping data for the 2020-21 Playoffs.\n",
      "...waiting 16.4 seconds\n",
      "Finished scraping data for the 2021-22 Regular%Season.\n",
      "...waiting 12.5 seconds\n",
      "Finished scraping data for the 2021-22 Playoffs.\n",
      "...waiting 19.8 seconds\n",
      "Finished scraping data for the 2022-23 Regular%Season.\n",
      "...waiting 15.0 seconds\n",
      "Finished scraping data for the 2022-23 Playoffs.\n",
      "...waiting 18.4 seconds\n",
      "Process finished! Total run time: 5.18\n"
     ]
    }
   ],
   "source": [
    "df = pd.DataFrame(columns=df_cols)\n",
    "season_types = ['Regular%Season', 'Playoffs']\n",
    "years = ['2012-13', '2013-14', '2014-15', '2015-16', '2016-17', '2017-18', '2018-19', '2019-20', '2020-21', '2021-22', '2022-23' ]\n",
    "begin_loop = time.time()\n",
    "for y in years:\n",
    "    for s in season_types:\n",
    "        api_url = 'https://stats.nba.com/stats/leagueLeaders?LeagueID=00&PerMode=Totals&Scope=S&Season='+y+'&SeasonType='+s+'&StatCategory=PTS'\n",
    "        r = requests.get(url=api_url, headers=headers).json()\n",
    "        temp_df1 = pd.DataFrame(table_values, columns=table_headers)\n",
    "        temp_df2 =pd.DataFrame({'Year':[y for i in range(len(temp_df1))],\n",
    "                                'Season_type' : [s for i in range(len(temp_df1))]})\n",
    "        temp_df3 = pd.concat([temp_df2, temp_df1], axis=1)\n",
    "        df = pd.concat([df, temp_df3], axis=0)\n",
    "        print(f'Finished scraping data for the {y} {s}.')\n",
    "        lag = np.random.uniform(low=5, high=20)\n",
    "        print(f'...waiting {round(lag,1)} seconds')\n",
    "        time.sleep(lag)\n",
    "print(f'Process finished! Total run time: {round((time.time()-begin_loop)/60,2)}')"
   ]
  },
  {
   "cell_type": "code",
   "execution_count": 20,
   "metadata": {},
   "outputs": [],
   "source": [
    "df.to_csv('C:/Users/tobis/Documents/nba_players_data.csv', index=False)"
   ]
  },
  {
   "cell_type": "code",
   "execution_count": 18,
   "metadata": {},
   "outputs": [],
   "source": [
    "db = mysql.connector.connect(\n",
    "    host='localhost',\n",
    "    user='root',\n",
    "    passwd='****',\n",
    "    database='nb_player_stats'\n",
    ")\n",
    "mycursor = db.cursor()"
   ]
  },
  {
   "cell_type": "code",
   "execution_count": 29,
   "metadata": {},
   "outputs": [],
   "source": [
    "df.rename(columns={'TEAM': 'TEAM_NAME'}, inplace=True)"
   ]
  },
  {
   "cell_type": "code",
   "execution_count": 30,
   "metadata": {},
   "outputs": [],
   "source": [
    "for index, row in df.iterrows():\n",
    "    columns = ', '.join(['`' + col + '`' for col in df.columns])\n",
    "    values = tuple(row)\n",
    "    placeholders = ', '.join(['%s'] * len(row))\n",
    "    \n",
    "    sql = f\"INSERT INTO nba_players_data ({columns}) VALUES ({placeholders})\"\n",
    "    mycursor.execute(sql, values)\n"
   ]
  },
  {
   "cell_type": "code",
   "execution_count": 31,
   "metadata": {},
   "outputs": [],
   "source": [
    "db.commit()"
   ]
  },
  {
   "cell_type": "code",
   "execution_count": 32,
   "metadata": {},
   "outputs": [],
   "source": [
    "mycursor.close()\n",
    "db.close()"
   ]
  }
 ],
 "metadata": {
  "kernelspec": {
   "display_name": "Python 3",
   "language": "python",
   "name": "python3"
  },
  "language_info": {
   "codemirror_mode": {
    "name": "ipython",
    "version": 3
   },
   "file_extension": ".py",
   "mimetype": "text/x-python",
   "name": "python",
   "nbconvert_exporter": "python",
   "pygments_lexer": "ipython3",
   "version": "3.11.1"
  },
  "orig_nbformat": 4
 },
 "nbformat": 4,
 "nbformat_minor": 2
}
